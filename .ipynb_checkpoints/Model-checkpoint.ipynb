{
 "cells": [
  {
   "cell_type": "markdown",
   "id": "1020ae08",
   "metadata": {},
   "source": [
    "# Times Series Prediction Using RNN"
   ]
  },
  {
   "cell_type": "markdown",
   "id": "9a05f30b",
   "metadata": {},
   "source": [
    "### What is Recurrent Neural Network?\n",
    "- A recurrent neural network (RNN) is a type of artificial neural network which uses sequential data or time series data. \n",
    "\n",
    "- They are distinguished by their <b>“memory”</b> as they take information from prior inputs to influence the current input and output.\n",
    "\n",
    "### Types of Recurrent Neural Network Architecture\n",
    "\n",
    "- Bidirectional recurrent neural networks (BRNN)\n",
    "\n",
    "- Long short-term memory (LSTM)\n",
    "\n",
    "- Gated recurrent units (GRUs)\n",
    "\n",
    "### Objectives\n",
    "\n",
    "- Build a simple LSTM RNN Model For Time Series Forecasting\n",
    "- Analyze predictions from the model\n",
    "\n",
    "---\n",
    "\n",
    "### Univariate\n",
    "\n",
    "Univariate time series models are a class of specifications where one attempts to model and to predict financial variables using only information contained in their own past values and possibly current and past values of an error term.\n",
    "\n",
    "[Link to read more on Univariate](https://www.cambridge.org/core/books/abs/introductory-econometrics-for-finance/univariate-time-series-modelling-and-forecasting/F20C6744BB368689ED4B6C5333BA773F)"
   ]
  },
  {
   "cell_type": "markdown",
   "id": "46000a29",
   "metadata": {},
   "source": [
    "## Structure of Univariate dataset modeling\n",
    "\n",
    "\n"
   ]
  },
  {
   "cell_type": "code",
   "execution_count": null,
   "id": "4a9ada53",
   "metadata": {},
   "outputs": [],
   "source": [
    "series_data = [100, 200, 320, 400, 530, 370, 600, 710, 890]\n"
   ]
  },
  {
   "cell_type": "markdown",
   "id": "d2356581",
   "metadata": {},
   "source": [
    "## Data pre-processing"
   ]
  },
  {
   "cell_type": "code",
   "execution_count": null,
   "id": "808acc30",
   "metadata": {},
   "outputs": [],
   "source": []
  },
  {
   "cell_type": "code",
   "execution_count": 61,
   "id": "08466b1e",
   "metadata": {},
   "outputs": [],
   "source": [
    "# Data pre-process function\n"
   ]
  },
  {
   "cell_type": "code",
   "execution_count": 62,
   "id": "00484c63",
   "metadata": {},
   "outputs": [],
   "source": [
    "# series_data\n",
    "\n",
    "# num_features\n"
   ]
  },
  {
   "cell_type": "code",
   "execution_count": 63,
   "id": "cd90bccd",
   "metadata": {},
   "outputs": [],
   "source": [
    "# View X\n"
   ]
  },
  {
   "cell_type": "code",
   "execution_count": 64,
   "id": "25607dea",
   "metadata": {},
   "outputs": [],
   "source": [
    "# View y\n"
   ]
  },
  {
   "cell_type": "code",
   "execution_count": 65,
   "id": "92a949b7",
   "metadata": {},
   "outputs": [],
   "source": [
    "# Check shape of X\n"
   ]
  },
  {
   "cell_type": "code",
   "execution_count": 66,
   "id": "62969560",
   "metadata": {},
   "outputs": [],
   "source": [
    "# Reshape X \n"
   ]
  },
  {
   "cell_type": "code",
   "execution_count": 67,
   "id": "8aaaeeb3",
   "metadata": {},
   "outputs": [],
   "source": [
    "# View X\n"
   ]
  },
  {
   "cell_type": "code",
   "execution_count": 68,
   "id": "c5a789d9",
   "metadata": {},
   "outputs": [],
   "source": [
    "# Import RNN libraries - Models -> Sequential, Layers -> Dense, LSTM\n"
   ]
  },
  {
   "cell_type": "code",
   "execution_count": 69,
   "id": "13328399",
   "metadata": {},
   "outputs": [],
   "source": [
    "# Build RNN Model\n"
   ]
  },
  {
   "cell_type": "code",
   "execution_count": 70,
   "id": "ff642573",
   "metadata": {},
   "outputs": [],
   "source": [
    "# Check RNN Model Summary\n"
   ]
  },
  {
   "cell_type": "code",
   "execution_count": 71,
   "id": "983d63bb",
   "metadata": {},
   "outputs": [],
   "source": [
    "# Check RNN Model initial_weights\n"
   ]
  },
  {
   "cell_type": "code",
   "execution_count": 72,
   "id": "512b7938",
   "metadata": {},
   "outputs": [],
   "source": [
    "# Compile model\n"
   ]
  },
  {
   "cell_type": "code",
   "execution_count": 73,
   "id": "b3583978",
   "metadata": {},
   "outputs": [],
   "source": [
    "# Fit model\n"
   ]
  },
  {
   "cell_type": "code",
   "execution_count": 74,
   "id": "cbba220b",
   "metadata": {},
   "outputs": [],
   "source": [
    "# Save model\n"
   ]
  },
  {
   "cell_type": "code",
   "execution_count": 75,
   "id": "065d7f16",
   "metadata": {},
   "outputs": [],
   "source": [
    "# Make predictions\n"
   ]
  },
  {
   "cell_type": "markdown",
   "id": "c9b62054",
   "metadata": {},
   "source": [
    "![image](DataImage.jpeg)"
   ]
  },
  {
   "cell_type": "markdown",
   "id": "9503f2f4",
   "metadata": {},
   "source": [
    "## Assignment\n",
    "#### Model development assignment using Energy(MWh)\n",
    "#### Reading assignment\n",
    "- Correlation vs Causation </br>\n",
    "[Article-1](https://www.lifehack.org/624604/the-most-common-bias-people-have-that-leads-to-wrong-decisions)"
   ]
  },
  {
   "cell_type": "code",
   "execution_count": null,
   "id": "f6da5708",
   "metadata": {},
   "outputs": [],
   "source": []
  }
 ],
 "metadata": {
  "kernelspec": {
   "display_name": "Python 3 (ipykernel)",
   "language": "python",
   "name": "python3"
  },
  "language_info": {
   "codemirror_mode": {
    "name": "ipython",
    "version": 3
   },
   "file_extension": ".py",
   "mimetype": "text/x-python",
   "name": "python",
   "nbconvert_exporter": "python",
   "pygments_lexer": "ipython3",
   "version": "3.11.4"
  }
 },
 "nbformat": 4,
 "nbformat_minor": 5
}
